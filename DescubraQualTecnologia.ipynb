{
  "nbformat": 4,
  "nbformat_minor": 0,
  "metadata": {
    "colab": {
      "provenance": [],
      "authorship_tag": "ABX9TyO/gsUaGr/UB1K8z/3tARys"
    },
    "kernelspec": {
      "name": "python3",
      "display_name": "Python 3"
    },
    "language_info": {
      "name": "python"
    }
  },
  "cells": [
    {
      "cell_type": "markdown",
      "source": [
        "Código para exemplificar uso do REQUESTS"
      ],
      "metadata": {
        "id": "Hfi8_DXhTkj7"
      }
    },
    {
      "cell_type": "code",
      "source": [
        "import random\n",
        "import requests\n",
        "\n",
        "def jogo_tecnologias():\n",
        "  \"\"\"\n",
        "  Jogo que sorteia uma tecnologia e dá ao usuário 5 opções para adivinhar,\n",
        "  obtendo os dados de um arquivo JSON no GitHub.\n",
        "  \"\"\"\n",
        "  # URL do arquivo JSON no GitHub\n",
        "  url = \"https://raw.githubusercontent.com/xereda/game-python/main/tech-wrods.json\"\n",
        "\n",
        "  # Obtém o JSON da URL\n",
        "  response = requests.get(url)\n",
        "  data = response.json()\n",
        "\n",
        "  # Sorteia uma tecnologia\n",
        "  tecnologia_sorteada = random.choice(data)\n",
        "  palavra_certa = tecnologia_sorteada[\"palavra\"]\n",
        "  dica = tecnologia_sorteada[\"dica\"]\n",
        "\n",
        "  # Cria opções de escolha, incluindo a correta\n",
        "  opcoes = [palavra_certa]\n",
        "  while len(opcoes) < 5:\n",
        "    opcao = random.choice(data)[\"palavra\"]\n",
        "    if opcao not in opcoes:\n",
        "      opcoes.append(opcao)\n",
        "  random.shuffle(opcoes)\n",
        "\n",
        "  # Mostra a dica e as opções ao usuário\n",
        "  print(\"Dica:\", dica)\n",
        "  for i, opcao in enumerate(opcoes):\n",
        "    print(f\"{i+1}. {opcao}\")\n",
        "\n",
        "  # Obtém a resposta do usuário\n",
        "  resposta = input(\"Qual é a tecnologia? (1-5): \")\n",
        "\n",
        "  # Verifica a resposta\n",
        "  if opcoes[int(resposta)-1] == palavra_certa:\n",
        "    print(\"Parabéns, você acertou!\")\n",
        "  else:\n",
        "    print(f\"Resposta errada. A tecnologia correta era: {palavra_certa}\")\n",
        "\n",
        "# Inicia o jogo\n",
        "jogo_tecnologias()"
      ],
      "metadata": {
        "id": "SUS5eGNzTqFA"
      },
      "execution_count": null,
      "outputs": []
    }
  ]
}