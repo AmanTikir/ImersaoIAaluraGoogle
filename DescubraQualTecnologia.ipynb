{
  "nbformat": 4,
  "nbformat_minor": 0,
  "metadata": {
    "colab": {
      "provenance": [],
      "authorship_tag": "ABX9TyNdBs06k0iqafKnK14fLlcy"
    },
    "kernelspec": {
      "name": "python3",
      "display_name": "Python 3"
    },
    "language_info": {
      "name": "python"
    }
  },
  "cells": [
    {
      "cell_type": "markdown",
      "source": [
        "\n",
        "# Documentação:\n",
        "\n",
        "jogo_tecnologias():\n",
        "*   Esta função não recebe argumentos.\n",
        "*   Ela sorteia uma tecnologia e apresenta ao usuário 5 opções para adivinhar.\n",
        "*   O jogo utiliza um arquivo JSON externo para obter as tecnologias e dicas.\n",
        "*   A função exibe uma dica e as opções para o usuário, e verifica se a resposta está correta.\n",
        "\n",
        "---\n",
        "\n",
        "\n"
      ],
      "metadata": {
        "id": "kv4Q6zK8eFX4"
      }
    },
    {
      "cell_type": "markdown",
      "source": [
        "## Considerações técnicas:\n",
        "\n",
        "*   A função jogo_tecnologias() contém a lógica principal do jogo.\n",
        "*   O código utiliza a biblioteca *requests* para obter o conteúdo do arquivo JSON da URL especificada.\n",
        "*  A função *random.choice*() é usada para sortear aleatoriamente uma tecnologia e as opções para o usuário.\n",
        "*  Um loop *while* é usado para garantir que haja 5 opções distintas.\n",
        "*  A função *random.shuffle*() embaralha as opções para que a resposta correta não esteja sempre na mesma posição.\n",
        "*  A função *enumerate*() é usada para exibir as opções com números para o usuário escolher.\n",
        "\n",
        "---\n",
        "\n"
      ],
      "metadata": {
        "id": "m8DFz0y4gTAa"
      }
    },
    {
      "cell_type": "markdown",
      "source": [
        "Código para exemplificar uso do REQUEST"
      ],
      "metadata": {
        "id": "Hfi8_DXhTkj7"
      }
    },
    {
      "cell_type": "code",
      "source": [
        "import random\n",
        "import requests\n",
        "\n",
        "def jogo_tecnologias():\n",
        "  \"\"\"\n",
        "  Jogo que sorteia uma tecnologia e dá ao usuário 5 opções para adivinhar,\n",
        "  obtendo os dados de um arquivo JSON no GitHub.\n",
        "\n",
        "  \"\"\"\n",
        "\n",
        "  # URL do arquivo JSON que contém as tecnologias e dicas\n",
        "  url = \"https://raw.githubusercontent.com/xereda/game-python/main/tech-wrods.json\"\n",
        "\n",
        "  # Obtém o conteúdo do arquivo JSON\n",
        "  response = requests.get(url)\n",
        "  data = response.json()\n",
        "\n",
        "  # Sorteia uma tecnologia aleatoriamente\n",
        "  tecnologia_sorteada = random.choice(data)\n",
        "  palavra_certa = tecnologia_sorteada[\"palavra\"]\n",
        "  dica = tecnologia_sorteada[\"dica\"]\n",
        "\n",
        "  # Cria uma lista com 5 opções, incluindo a palavra correta\n",
        "  opcoes = [palavra_certa]\n",
        "  while len(opcoes) < 5:\n",
        "    opcao = random.choice(data)[\"palavra\"]\n",
        "    if opcao not in opcoes:\n",
        "      opcoes.append(opcao)\n",
        "  random.shuffle(opcoes)  # Embaralha as opções\n",
        "\n",
        "  # Exibe a dica e as opções para o usuário\n",
        "  print(\"Dica:\", dica)\n",
        "  for i, opcao in enumerate(opcoes):\n",
        "    print(f\"{i+1}. {opcao}\")\n",
        "\n",
        "  # Obtém a resposta do usuário\n",
        "  resposta = input(\"Qual é a tecnologia? (1-5): \")\n",
        "\n",
        "  # Verifica se a resposta está correta\n",
        "  if opcoes[int(resposta)-1] == palavra_certa:\n",
        "    print(\"Parabéns, você acertou!\")\n",
        "  else:\n",
        "    print(f\"Resposta errada. A tecnologia correta era: {palavra_certa}\")\n",
        "\n",
        "# Inicia o jogo\n",
        "jogo_tecnologias()"
      ],
      "metadata": {
        "colab": {
          "base_uri": "https://localhost:8080/"
        },
        "id": "SUS5eGNzTqFA",
        "outputId": "03cc94b0-465c-40dd-ee85-e10cc6736b5b"
      },
      "execution_count": 1,
      "outputs": [
        {
          "output_type": "stream",
          "name": "stdout",
          "text": [
            "Dica: sistema de gerenciamento de banco de dados relacional de código aberto.\n",
            "1. xamarin\n",
            "2. python\n",
            "3. nosql\n",
            "4. vim\n",
            "5. mysql\n",
            "Qual é a tecnologia? (1-5): 5\n",
            "Parabéns, você acertou!\n"
          ]
        }
      ]
    }
  ]
}