{
  "nbformat": 4,
  "nbformat_minor": 0,
  "metadata": {
    "colab": {
      "provenance": [],
      "mount_file_id": "1nNr3vkiHZx8XzHYS7DajnJfYTmokrB66",
      "authorship_tag": "ABX9TyP+ZG6S8ZaNurkA4dyq9OO2"
    },
    "kernelspec": {
      "name": "python3",
      "display_name": "Python 3"
    },
    "language_info": {
      "name": "python"
    }
  },
  "cells": [
    {
      "cell_type": "code",
      "execution_count": 2,
      "metadata": {
        "id": "VBdZyeUKLrAh",
        "colab": {
          "base_uri": "https://localhost:8080/",
          "height": 34
        },
        "outputId": "80b76809-4c25-426c-9d8f-f7147d710d9c"
      },
      "outputs": [
        {
          "output_type": "stream",
          "name": "stdout",
          "text": [
            " - 3 people\n"
          ]
        }
      ],
      "source": [
        "\"\"\"\n",
        "At the command line, only need to run once to install the package via pip:\n",
        "\n",
        "$ pip install google-generativeai\n",
        "\"\"\"\n",
        "\n",
        "from pathlib import Path\n",
        "import hashlib\n",
        "import google.generativeai as genai\n",
        "from google.colab import userdata\n",
        "ApiKey = userdata.get(\"ChaveSecreta\")   #Obtendo (para variável ApiKey) informação confidencial\n",
        "genai.configure(api_key= ApiKey)        #Configurando informação confidencial (Api Key do Gemini)\n",
        "\n",
        "# Configuração de parâmetros do modelo\n",
        "generation_config = {\n",
        "  \"temperature\": 0.9, #Afeta a criatividade das respostas\n",
        "  \"top_p\": 0.95,      #Afeta a (soma da) probabilidade de tokens\n",
        "  \"top_k\": 32,        #Afeta a quantidade de tokens gerados pelo modelo\n",
        "  \"max_output_tokens\": 1024,\n",
        "}\n",
        "\n",
        "safety_settings = [   #Parâmetros relacionados a linguagem utilizada pelo modelo\n",
        "  {\n",
        "    \"category\": \"HARM_CATEGORY_HARASSMENT\",\n",
        "    \"threshold\": \"BLOCK_MEDIUM_AND_ABOVE\"\n",
        "  },\n",
        "  {\n",
        "    \"category\": \"HARM_CATEGORY_HATE_SPEECH\",\n",
        "    \"threshold\": \"BLOCK_MEDIUM_AND_ABOVE\"\n",
        "  },\n",
        "  {\n",
        "    \"category\": \"HARM_CATEGORY_SEXUALLY_EXPLICIT\",\n",
        "    \"threshold\": \"BLOCK_MEDIUM_AND_ABOVE\"\n",
        "  },\n",
        "  {\n",
        "    \"category\": \"HARM_CATEGORY_DANGEROUS_CONTENT\",\n",
        "    \"threshold\": \"BLOCK_MEDIUM_AND_ABOVE\"\n",
        "  },\n",
        "]\n",
        "\n",
        "model = genai.GenerativeModel(model_name=\"gemini-1.0-pro-vision-latest\",\n",
        "                              generation_config=generation_config,\n",
        "                              safety_settings=safety_settings)\n",
        "\n",
        "prompt_parts = [\n",
        "  \"Extract the objects in the provided image and output them in a list in alphabetical order\",\n",
        "  \"Image: \",\n",
        "  genai.upload_file(\"/content/drive/MyDrive/Google AI Studio/ImagemExemplo_Logomarca.png\"),\n",
        "  \"List of Objects: - airplane\\n- coffee cup\\n- eiffel tower\\n- globe\\n- keyboard\\n- mouse\\n- money\\n- notebook\\n- passport\\n- pen\\n- sunglasses\\n- shopping cart\\n- tablet\",\n",
        "  \"Image: \",\n",
        "  genai.upload_file(\"/content/drive/MyDrive/Google AI Studio/ImagemExemplo_SCKasas.jpg\"),\n",
        "  \"List of Objects: - gardening gloves\\n- rake\\n- shovel\\n- plants\\n- pots\\n- watering can\",\n",
        "  \"Image: \",\n",
        "  genai.upload_file(\"/content/drive/MyDrive/Google AI Studio/ImagemExemplo_AulaoPython.png\"),\n",
        "  \"List of Objects: \",\n",
        "]\n",
        "\n",
        "response = model.generate_content(prompt_parts)\n",
        "print(response.text)"
      ]
    }
  ]
}